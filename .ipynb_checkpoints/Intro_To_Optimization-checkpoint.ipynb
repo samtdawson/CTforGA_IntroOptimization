{
 "cells": [
  {
   "cell_type": "markdown",
   "id": "e94c1246",
   "metadata": {},
   "source": [
    "<center><img src=\"http://i.imgur.com/sSaOozN.png\" width=\"500\"></center>\n",
    "\n",
    "\n",
    "## Course: Computational Thinking for Governance Analytics\n",
    "\n",
    "### Prof. José Manuel Magallanes, PhD \n",
    "* Visiting Professor of Computational Policy at Evans School of Public Policy and Governance, and eScience Institute Senior Data Science Fellow, University of Washington.\n",
    "* Professor of Government and Political Methodology, Pontificia Universidad Católica del Perú. \n",
    "\n",
    "_____\n",
    "<a id='home'></a>\n",
    "\n",
    "# Introduction to Optimization\n"
   ]
  },
  {
   "cell_type": "code",
   "execution_count": 1,
   "id": "4e38af10",
   "metadata": {},
   "outputs": [
    {
     "data": {
      "text/html": [
       "<iframe src=\"https://docs.google.com/presentation/d/e/2PACX-1vTSzx6Vjo9on9XRNlPgdkxQszdpYZgYEQZYrlf3EYca7Fvze0sui8LphkWlTtscq-zQMBH5ZuyS_PhY/embed?start=false&loop=false&delayms=3000\" frameborder=\"0\" width=\"900\" height=\"600\" allowfullscreen=\"true\" mozallowfullscreen=\"true\" webkitallowfullscreen=\"true\"></iframe>\n"
      ],
      "text/plain": [
       "<IPython.core.display.HTML object>"
      ]
     },
     "metadata": {},
     "output_type": "display_data"
    }
   ],
   "source": [
    "%%html\n",
    "<iframe src=\"https://docs.google.com/presentation/d/e/2PACX-1vTSzx6Vjo9on9XRNlPgdkxQszdpYZgYEQZYrlf3EYca7Fvze0sui8LphkWlTtscq-zQMBH5ZuyS_PhY/embed?start=false&loop=false&delayms=3000\" frameborder=\"0\" width=\"900\" height=\"600\" allowfullscreen=\"true\" mozallowfullscreen=\"true\" webkitallowfullscreen=\"true\"></iframe>"
   ]
  },
  {
   "cell_type": "markdown",
   "id": "1f02e23b",
   "metadata": {},
   "source": [
    "Please, go to your _environment_ in Anacoda Navigator to install **glpk** and **pulp**  before runing the codes below."
   ]
  },
  {
   "cell_type": "code",
   "execution_count": 2,
   "id": "4436e0c7",
   "metadata": {},
   "outputs": [
    {
     "ename": "PulpSolverError",
     "evalue": "Pulp: cannot execute cbc.exe cwd: C:\\Users\\Sam Dawson\\OneDrive\\Documents\\GitHub\\CTforGA_IntroOptimization",
     "output_type": "error",
     "traceback": [
      "\u001b[1;31m---------------------------------------------------------------------------\u001b[0m",
      "\u001b[1;31mPulpSolverError\u001b[0m                           Traceback (most recent call last)",
      "Cell \u001b[1;32mIn[2], line 30\u001b[0m\n\u001b[0;32m     27\u001b[0m model \u001b[38;5;241m+\u001b[39m\u001b[38;5;241m=\u001b[39m C3\n\u001b[0;32m     29\u001b[0m solver \u001b[38;5;241m=\u001b[39m COIN_CMD(msg\u001b[38;5;241m=\u001b[39m\u001b[38;5;28;01mFalse\u001b[39;00m)\n\u001b[1;32m---> 30\u001b[0m result\u001b[38;5;241m=\u001b[39m\u001b[43mmodel\u001b[49m\u001b[38;5;241;43m.\u001b[39;49m\u001b[43msolve\u001b[49m\u001b[43m(\u001b[49m\u001b[43msolver\u001b[49m\u001b[43m)\u001b[49m\n",
      "File \u001b[1;32m~\\.conda\\envs\\IslandTime\\lib\\site-packages\\pulp\\pulp.py:1913\u001b[0m, in \u001b[0;36mLpProblem.solve\u001b[1;34m(self, solver, **kwargs)\u001b[0m\n\u001b[0;32m   1911\u001b[0m \u001b[38;5;66;03m# time it\u001b[39;00m\n\u001b[0;32m   1912\u001b[0m \u001b[38;5;28mself\u001b[39m\u001b[38;5;241m.\u001b[39mstartClock()\n\u001b[1;32m-> 1913\u001b[0m status \u001b[38;5;241m=\u001b[39m solver\u001b[38;5;241m.\u001b[39mactualSolve(\u001b[38;5;28mself\u001b[39m, \u001b[38;5;241m*\u001b[39m\u001b[38;5;241m*\u001b[39mkwargs)\n\u001b[0;32m   1914\u001b[0m \u001b[38;5;28mself\u001b[39m\u001b[38;5;241m.\u001b[39mstopClock()\n\u001b[0;32m   1915\u001b[0m \u001b[38;5;28mself\u001b[39m\u001b[38;5;241m.\u001b[39mrestoreObjective(wasNone, dummyVar)\n",
      "File \u001b[1;32m~\\.conda\\envs\\IslandTime\\lib\\site-packages\\pulp\\apis\\coin_api.py:137\u001b[0m, in \u001b[0;36mCOIN_CMD.actualSolve\u001b[1;34m(self, lp, **kwargs)\u001b[0m\n\u001b[0;32m    135\u001b[0m \u001b[38;5;28;01mdef\u001b[39;00m \u001b[38;5;21mactualSolve\u001b[39m(\u001b[38;5;28mself\u001b[39m, lp, \u001b[38;5;241m*\u001b[39m\u001b[38;5;241m*\u001b[39mkwargs):\n\u001b[0;32m    136\u001b[0m     \u001b[38;5;124;03m\"\"\"Solve a well formulated lp problem\"\"\"\u001b[39;00m\n\u001b[1;32m--> 137\u001b[0m     \u001b[38;5;28;01mreturn\u001b[39;00m \u001b[38;5;28mself\u001b[39m\u001b[38;5;241m.\u001b[39msolve_CBC(lp, \u001b[38;5;241m*\u001b[39m\u001b[38;5;241m*\u001b[39mkwargs)\n",
      "File \u001b[1;32m~\\.conda\\envs\\IslandTime\\lib\\site-packages\\pulp\\apis\\coin_api.py:146\u001b[0m, in \u001b[0;36mCOIN_CMD.solve_CBC\u001b[1;34m(self, lp, use_mps)\u001b[0m\n\u001b[0;32m    144\u001b[0m \u001b[38;5;124;03m\"\"\"Solve a MIP problem using CBC\"\"\"\u001b[39;00m\n\u001b[0;32m    145\u001b[0m \u001b[38;5;28;01mif\u001b[39;00m \u001b[38;5;129;01mnot\u001b[39;00m \u001b[38;5;28mself\u001b[39m\u001b[38;5;241m.\u001b[39mexecutable(\u001b[38;5;28mself\u001b[39m\u001b[38;5;241m.\u001b[39mpath):\n\u001b[1;32m--> 146\u001b[0m     \u001b[38;5;28;01mraise\u001b[39;00m PulpSolverError(\n\u001b[0;32m    147\u001b[0m         \u001b[38;5;124m\"\u001b[39m\u001b[38;5;124mPulp: cannot execute \u001b[39m\u001b[38;5;132;01m%s\u001b[39;00m\u001b[38;5;124m cwd: \u001b[39m\u001b[38;5;132;01m%s\u001b[39;00m\u001b[38;5;124m\"\u001b[39m \u001b[38;5;241m%\u001b[39m (\u001b[38;5;28mself\u001b[39m\u001b[38;5;241m.\u001b[39mpath, os\u001b[38;5;241m.\u001b[39mgetcwd())\n\u001b[0;32m    148\u001b[0m     )\n\u001b[0;32m    149\u001b[0m tmpLp, tmpMps, tmpSol, tmpMst \u001b[38;5;241m=\u001b[39m \u001b[38;5;28mself\u001b[39m\u001b[38;5;241m.\u001b[39mcreate_tmp_files(\n\u001b[0;32m    150\u001b[0m     lp\u001b[38;5;241m.\u001b[39mname, \u001b[38;5;124m\"\u001b[39m\u001b[38;5;124mlp\u001b[39m\u001b[38;5;124m\"\u001b[39m, \u001b[38;5;124m\"\u001b[39m\u001b[38;5;124mmps\u001b[39m\u001b[38;5;124m\"\u001b[39m, \u001b[38;5;124m\"\u001b[39m\u001b[38;5;124msol\u001b[39m\u001b[38;5;124m\"\u001b[39m, \u001b[38;5;124m\"\u001b[39m\u001b[38;5;124mmst\u001b[39m\u001b[38;5;124m\"\u001b[39m\n\u001b[0;32m    151\u001b[0m )\n\u001b[0;32m    152\u001b[0m \u001b[38;5;28;01mif\u001b[39;00m use_mps:\n",
      "\u001b[1;31mPulpSolverError\u001b[0m: Pulp: cannot execute cbc.exe cwd: C:\\Users\\Sam Dawson\\OneDrive\\Documents\\GitHub\\CTforGA_IntroOptimization"
     ]
    }
   ],
   "source": [
    "from pulp import LpMaximize,LpProblem,LpVariable,LpConstraint, value\n",
    "from pulp import COIN_CMD\n",
    "from pulp import LpConstraintGE as GE\n",
    "from pulp import LpConstraintLE as LE\n",
    "\n",
    "\n",
    "model = LpProblem(name='refinery-problem', sense=LpMaximize)\n",
    "\n",
    "gas = LpVariable(name=\"Gas\", lowBound=0,cat='Continuous')\n",
    "oil = LpVariable(name=\"Oil\", lowBound=0,cat='Continuous')\n",
    "\n",
    "obj_func = 1.9*gas + 1.5*oil\n",
    "\n",
    "C1= LpConstraint(name='Gas Constraint', \n",
    "                 e= 1*gas - 2*oil, sense=GE, rhs=0)\n",
    "C2= LpConstraint(name='Oil Constraint',\n",
    "                 e= 1*oil, sense=GE, rhs=3000000)\n",
    "C3= LpConstraint(name='Demand Constraint',\n",
    "                 e= 1*gas, sense=LE, rhs=6400000)\n",
    "\n",
    "\n",
    "# build model with info and solve the model\n",
    "\n",
    "model += obj_func\n",
    "model += C1\n",
    "model += C2\n",
    "model += C3\n",
    "\n",
    "solver = COIN_CMD(msg=False)\n",
    "result=model.solve(solver)"
   ]
  },
  {
   "cell_type": "code",
   "execution_count": 58,
   "id": "04f0f2d9",
   "metadata": {},
   "outputs": [
    {
     "name": "stdout",
     "output_type": "stream",
     "text": [
      "Optimal Result:\n",
      "Gas = 6400000.0\n",
      "Oil = 3200000.0\n"
     ]
    }
   ],
   "source": [
    "print (\"Optimal Result:\")\n",
    "for variable in model.variables():\n",
    "    print (variable.name, \"=\", variable.varValue)"
   ]
  },
  {
   "cell_type": "code",
   "execution_count": 59,
   "id": "d0365db0",
   "metadata": {},
   "outputs": [
    {
     "name": "stdout",
     "output_type": "stream",
     "text": [
      "Total net max profit:\n",
      "16960000.0\n"
     ]
    }
   ],
   "source": [
    "print (\"Total net max profit:\")\n",
    "print (value(model.objective))"
   ]
  },
  {
   "cell_type": "code",
   "execution_count": 60,
   "id": "2ac78158",
   "metadata": {},
   "outputs": [
    {
     "name": "stdout",
     "output_type": "stream",
     "text": [
      "Slack/Surplus\n",
      "Gas_Constraint:0.0\n",
      "Oil_Constraint:200000.0\n",
      "Demand_Constraint:0.0\n"
     ]
    }
   ],
   "source": [
    "print (\"Slack/Surplus\")\n",
    "for name, constraint in model.constraints.items():\n",
    "    print(name + ':' + str(constraint.value()))"
   ]
  },
  {
   "cell_type": "code",
   "execution_count": 66,
   "id": "a7e1cb7a",
   "metadata": {},
   "outputs": [
    {
     "data": {
      "text/html": [
       "\n",
       "<iframe src=\"https://docs.google.com/presentation/d/e/2PACX-1vTjLUWEMZLMVTv2Yni9GPgY4XddrJEFVx-9WDsnD2jhGKeLPteQrkH0xMRm97iE01pK0OozDkksC2Cw/embed?start=false&loop=false&delayms=3000\" frameborder=\"0\" width=\"960\" height=\"569\" allowfullscreen=\"true\" mozallowfullscreen=\"true\" webkitallowfullscreen=\"true\"></iframe>\n"
      ],
      "text/plain": [
       "<IPython.core.display.HTML object>"
      ]
     },
     "metadata": {},
     "output_type": "display_data"
    }
   ],
   "source": [
    "%%html\n",
    "\n",
    "<iframe src=\"https://docs.google.com/presentation/d/e/2PACX-1vTjLUWEMZLMVTv2Yni9GPgY4XddrJEFVx-9WDsnD2jhGKeLPteQrkH0xMRm97iE01pK0OozDkksC2Cw/embed?start=false&loop=false&delayms=3000\" frameborder=\"0\" width=\"960\" height=\"569\" allowfullscreen=\"true\" mozallowfullscreen=\"true\" webkitallowfullscreen=\"true\"></iframe>\n"
   ]
  },
  {
   "cell_type": "code",
   "execution_count": 61,
   "id": "06e07313",
   "metadata": {},
   "outputs": [],
   "source": [
    "from pulp import LpMinimize\n",
    "\n",
    "model = LpProblem(name='diet-problem', sense=LpMinimize)\n",
    "\n",
    "V_V = LpVariable(name=\"Vega Vita\", lowBound=0,cat='Integer')\n",
    "H_H = LpVariable(name=\"Happy Health\", lowBound=0,cat='Integer')\n",
    "\n",
    "obj_func = 0.2*V_V + 0.3*H_H\n",
    "\n",
    "C1=LpConstraint(e=20*V_V + 30*H_H,sense=GE,name='Vitamin C',rhs=60)\n",
    "C2=LpConstraint(e=500*V_V + 250*H_H,sense=GE,name='Calcium',rhs=1000)\n",
    "C3=LpConstraint(e=9*V_V + 2*H_H,sense=GE,name='Iron',rhs=18)\n",
    "C4=LpConstraint(e=2*V_V + 10*H_H,sense=GE,name='Niacin',rhs=20)\n",
    "C5=LpConstraint(e=60*V_V + 90*H_H,sense=GE,name='Magnesium',rhs=360)\n",
    "\n",
    "\n",
    "model += obj_func\n",
    "model += C1\n",
    "model += C2\n",
    "model += C3\n",
    "model += C4\n",
    "model += C5\n",
    "\n",
    "solver = COIN_CMD(msg=False)\n",
    "result=model.solve(solver)"
   ]
  },
  {
   "cell_type": "code",
   "execution_count": 62,
   "id": "3948aae6",
   "metadata": {},
   "outputs": [
    {
     "name": "stdout",
     "output_type": "stream",
     "text": [
      "Optimal Result:\n",
      "Happy_Health = 2.0\n",
      "Vega_Vita = 3.0\n"
     ]
    }
   ],
   "source": [
    "print (\"Optimal Result:\")\n",
    "for variable in model.variables():\n",
    "    print (variable.name, \"=\", variable.varValue)"
   ]
  },
  {
   "cell_type": "code",
   "execution_count": 63,
   "id": "89e41ac7",
   "metadata": {},
   "outputs": [
    {
     "name": "stdout",
     "output_type": "stream",
     "text": [
      "Total min expenses:\n",
      "1.2000000000000002\n"
     ]
    }
   ],
   "source": [
    "print (\"Total min expenses:\")\n",
    "print (value(model.objective))"
   ]
  },
  {
   "cell_type": "code",
   "execution_count": 64,
   "id": "9473d34a",
   "metadata": {},
   "outputs": [
    {
     "name": "stdout",
     "output_type": "stream",
     "text": [
      "Slack/Surplus\n",
      "Vitamin_C:60.0\n",
      "Calcium:1000.0\n",
      "Iron:13.0\n",
      "Niacin:6.0\n",
      "Magnesium:0.0\n"
     ]
    }
   ],
   "source": [
    "print (\"Slack/Surplus\")\n",
    "for name, constraint in model.constraints.items():\n",
    "    print(name + ':' + str(constraint.value()))"
   ]
  },
  {
   "cell_type": "code",
   "execution_count": null,
   "id": "edf6787d",
   "metadata": {},
   "outputs": [],
   "source": []
  }
 ],
 "metadata": {
  "kernelspec": {
   "display_name": "Python 3 (ipykernel)",
   "language": "python",
   "name": "python3"
  },
  "language_info": {
   "codemirror_mode": {
    "name": "ipython",
    "version": 3
   },
   "file_extension": ".py",
   "mimetype": "text/x-python",
   "name": "python",
   "nbconvert_exporter": "python",
   "pygments_lexer": "ipython3",
   "version": "3.10.8"
  }
 },
 "nbformat": 4,
 "nbformat_minor": 5
}
